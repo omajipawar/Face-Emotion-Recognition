{
  "nbformat": 4,
  "nbformat_minor": 0,
  "metadata": {
    "colab": {
      "name": "Face Emotion Recognition (Omaji Pawar)",
      "provenance": [],
      "authorship_tag": "ABX9TyO9Hy4rP61nBH1jlNCqE55y",
      "include_colab_link": true
    },
    "kernelspec": {
      "name": "python3",
      "display_name": "Python 3"
    },
    "language_info": {
      "name": "python"
    }
  },
  "cells": [
    {
      "cell_type": "markdown",
      "metadata": {
        "id": "view-in-github",
        "colab_type": "text"
      },
      "source": [
        "<a href=\"https://colab.research.google.com/github/omajipawar/Face-Emotion-Recognition/blob/main/Face_Emotion_Recognition_(Omaji_Pawar).ipynb\" target=\"_parent\"><img src=\"https://colab.research.google.com/assets/colab-badge.svg\" alt=\"Open In Colab\"/></a>"
      ]
    },
    {
      "cell_type": "markdown",
      "source": [
        "### Problem Statement"
      ],
      "metadata": {
        "id": "MKqBLneS6P6E"
      }
    },
    {
      "cell_type": "markdown",
      "source": [
        "The Indian education landscape has been undergoing rapid changes for the past 10 years owing to the advancement of web-based learning services, specifically, eLearning platforms. Global E-learning is estimated to witness an 8X over the next 5 years to reach USD 2B in 2021. India is expected to grow with a CAGR of 44% crossing the 10M users mark in 2021. Although the market is growing on a rapid scale, there are major challenges associated with digital learning when compared with brick and mortar classrooms. One of many challenges is how to ensure quality learning for students. Digital platforms might overpower physical classrooms in terms of content quality but when it comes to understanding whether students are able to grasp the content in a live class scenario is yet an open-end challenge. In a physical classroom during a lecturing teacher can see the faces and assess the emotion of the class and tune their lecture accordingly, whether he is going fast or slow. He can identify students who need special attention. Digital classrooms are conducted via video telephony software program (exZoom) where it’s not possible for medium scale class (25-50) to see all students and access the mood. Because of this drawback, students are not focusing on content due to lack of surveillance. While digital platforms have limitations in terms of physical surveillance but it comes with the power of data and machines which can work for you. It provides data in the form of video, audio, and texts which can be analysed using deep learning algorithms. Deep learning backed system not only solves the surveillance issue, but it also removes the human bias from the system, and all information is no longer in the teacher’s brain rather translated in numbers that can be analysed and tracked."
      ],
      "metadata": {
        "id": "qC0KimG36UTN"
      }
    },
    {
      "cell_type": "markdown",
      "source": [
        "Scope of project\n",
        "\n",
        "* A. Model should be able to identify students’ emotions using minimum reference images.\n",
        "* B. Model should work on the real-time webcam video feed.\n",
        "* C. Model must be deployed on AWS/GCP/Azure platform as an end-to-end solution.\n",
        "* D. Model must be accessible via a web application (Streamlit) for demo purposes."
      ],
      "metadata": {
        "id": "rELqU6n86XwQ"
      }
    },
    {
      "cell_type": "code",
      "execution_count": 2,
      "metadata": {
        "id": "kpHc3aWM6GyA"
      },
      "outputs": [],
      "source": [
        "#Importing python libraries\n",
        "import numpy as np\n",
        "import pandas as pd\n",
        "import matplotlib.pyplot as plt\n",
        "%matplotlib inline\n",
        "import seaborn as sns\n",
        "import os\n",
        "import warnings \n",
        "warnings.filterwarnings('ignore')\n",
        "\n",
        "#Importing deep learning libraries\n",
        "import tensorflow as tf\n",
        "from tensorflow import keras\n",
        "from tensorflow.keras.preprocessing.image import ImageDataGenerator, load_img, img_to_array\n",
        "from keras import layers\n",
        "from keras.layers import Input,Dropout,MaxPooling2D, GlobalAveragePooling2D, Flatten, Conv2D, BatchNormalization, Activation, Dense, BatchNormalization\n",
        "from keras.models import Model, Sequential\n",
        "from keras import models\n",
        "from tensorflow.keras.optimizers import SGD, Adam"
      ]
    },
    {
      "cell_type": "code",
      "source": [
        "#Unzipping the data\n",
        "!unzip '/content/archive (3).zip' -d \"/content/New folder\""
      ],
      "metadata": {
        "id": "IxA7OeyL6-_R"
      },
      "execution_count": null,
      "outputs": []
    },
    {
      "cell_type": "code",
      "source": [
        "#Training and test Data path\n",
        "train_data_path = '/content/New folder/images/images/train'\n",
        "test_data_path = '/content/New folder/images/images/validation'"
      ],
      "metadata": {
        "id": "yo_e_aRC7D56"
      },
      "execution_count": 4,
      "outputs": []
    },
    {
      "cell_type": "code",
      "source": [
        "#Creating dictionary for emotion\n",
        "emotions = {0: 'Angry', 1: 'Disgust', 2: 'Fear', 3: 'Happy', 4: 'Sad', 5: 'Surprise', 6: 'Neutral'}"
      ],
      "metadata": {
        "id": "esPaU2vb7Les"
      },
      "execution_count": 5,
      "outputs": []
    },
    {
      "cell_type": "code",
      "source": [
        "#Data preprocessing\n",
        "picture_size = 48\n",
        "batch_size = 128\n",
        "train_gen = ImageDataGenerator( zoom_range = 0.2, \n",
        "                               shear_range = 0.2, \n",
        "                               horizontal_flip=True, \n",
        "                               rescale = 1./255)\n",
        "\n",
        "test_gen = ImageDataGenerator(rescale = 1./255 )\n",
        "\n",
        "train_data = train_gen.flow_from_directory(directory= train_data_path, \n",
        "                                                       target_size=(picture_size,picture_size),\n",
        "                                                       color_mode='grayscale',\n",
        "                                                       batch_size=batch_size,\n",
        "                                                       class_mode='categorical',\n",
        "                                                       shuffle= True)\n",
        "\n",
        "test_data = test_gen.flow_from_directory(directory = test_data_path,\n",
        "                                                   target_size=(picture_size,picture_size),\n",
        "                                                   color_mode='grayscale',\n",
        "                                                   batch_size=batch_size,\n",
        "                                                   class_mode = 'categorical',\n",
        "                                                   shuffle= False)"
      ],
      "metadata": {
        "colab": {
          "base_uri": "https://localhost:8080/"
        },
        "id": "RraBA8BUAgIJ",
        "outputId": "5eba7d8e-7e56-4c76-b61b-03c0d2fb834b"
      },
      "execution_count": 6,
      "outputs": [
        {
          "output_type": "stream",
          "name": "stdout",
          "text": [
            "Found 28821 images belonging to 7 classes.\n",
            "Found 7066 images belonging to 7 classes.\n"
          ]
        }
      ]
    },
    {
      "cell_type": "code",
      "source": [
        ""
      ],
      "metadata": {
        "id": "4zdN9rwXBmrF"
      },
      "execution_count": null,
      "outputs": []
    }
  ]
}